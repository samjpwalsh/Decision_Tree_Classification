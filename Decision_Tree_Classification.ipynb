{
 "cells": [
  {
   "cell_type": "markdown",
   "id": "00398404",
   "metadata": {},
   "source": [
    "# Decision Tree Classification\n",
    "\n",
    "_Assignment for the University of Bath as part of MSc in Artificial Intelligence_ \n",
    "\n",
    "_Data Sources:_\n",
    "\n",
    "_weather-data - University of Bath department of Computer Science_\n",
    "\n",
    "_heart-prediction - https://www.kaggle.com/datasets/rashikrahmanpritom/heart-attack-analysis-prediction-dataset_\n",
    "\n",
    "### 1. Tree implementation"
   ]
  },
  {
   "cell_type": "code",
   "execution_count": 1,
   "id": "250dae39",
   "metadata": {},
   "outputs": [],
   "source": [
    "import pandas as pd\n",
    "import numpy as np\n",
    "import random\n",
    "import seaborn as sn"
   ]
  },
  {
   "cell_type": "markdown",
   "id": "4bbe5397",
   "metadata": {},
   "source": [
    "First several classes are created to represent the leaves and branches of the tree, along with a class which represents a test used to partition the dataset."
   ]
  },
  {
   "cell_type": "code",
   "execution_count": 2,
   "id": "f72bee45",
   "metadata": {},
   "outputs": [],
   "source": [
    "class LeafNode:\n",
    "    \n",
    "    def __init__(self, dataset, y_column):\n",
    "        self.output = dataset[y_column].value_counts().idxmax()\n",
    "        self.confidence = dataset[y_column].value_counts().max() / dataset[y_column].value_counts().sum()\n",
    "\n",
    "class BranchNode:\n",
    "    \n",
    "    def __init__(self, partition_test, match_branch, non_match_branch):\n",
    "        self.partition_test = partition_test\n",
    "        self.match_branch = match_branch\n",
    "        self.non_match_branch = non_match_branch\n",
    "\n",
    "class PartitionTest:\n",
    "    \n",
    "    def __init__(self, column, value):\n",
    "        self.column = column\n",
    "        self.value = value\n",
    "\n",
    "    def __repr__(self):\n",
    "        if is_discrete(self.column):\n",
    "            comparison = \"==\"\n",
    "        else:\n",
    "            comparison = \"<\"\n",
    "        return f\"Is {self.column.name} {comparison} {self.value} ?\""
   ]
  },
  {
   "cell_type": "markdown",
   "id": "6ace566b",
   "metadata": {},
   "source": [
    "My algorithm uses a CART approach to construct a binary classification tree from a given dataset. There are a couple of implementational choices I made here. The first was to use a binary approach where each test produces a true or false result, this allows for more easily readable trees when the number of possible values of a variable is high, especially when the tree is depth-limited. The second was to use the CART algorithm as opposed to another approach such as ID3. CART is slightly less computationally expensive and performance of both algorithms is comparable.\n",
    "\n",
    "The following functions are used to partition the dataset, galculate the gini impurity and find the best partition based on the lowest weighted gini impurity for among the different tests."
   ]
  },
  {
   "cell_type": "code",
   "execution_count": 3,
   "id": "158e8903",
   "metadata": {},
   "outputs": [],
   "source": [
    "def is_discrete(column):\n",
    "    if isinstance(column.iloc[0], (np.int64, np.float64)):\n",
    "        if column.nunique() >= (len(column) * 0.1):\n",
    "            return False\n",
    "        else:\n",
    "            return True\n",
    "    else:\n",
    "        return True\n",
    "\n",
    "def partition(dataset, partition_test):\n",
    "    if is_discrete(partition_test.column):\n",
    "        match_data = dataset[dataset[partition_test.column.name] == partition_test.value]\n",
    "        non_match_data = dataset[dataset[partition_test.column.name] != partition_test.value]\n",
    "    else:\n",
    "        match_data = dataset[dataset[partition_test.column.name] < partition_test.value]\n",
    "        non_match_data = dataset[dataset[partition_test.column.name] >= partition_test.value]\n",
    "\n",
    "    return match_data, non_match_data\n",
    "\n",
    "def current_gini_impurity(dataset, y_column):\n",
    "    y_counts = dataset[y_column].value_counts()\n",
    "    gini = 1 - (np.square(y_counts / y_counts.sum())).sum()\n",
    "    return gini\n",
    "\n",
    "def weighted_gini_impurity(match_data, non_match_data, y_column):\n",
    "    y_counts = match_data[y_column].value_counts()\n",
    "    match_data_gini = 1 - (np.square(y_counts / y_counts.sum())).sum()\n",
    "    y_counts2 = non_match_data[y_column].value_counts()\n",
    "    non_match_data_gini = 1 - (np.square(y_counts2 / y_counts2.sum())).sum()\n",
    "    weighted_gini = (y_counts.sum() * match_data_gini + y_counts2.sum() * non_match_data_gini) / (y_counts.sum() + y_counts2.sum())\n",
    "    return weighted_gini\n",
    "\n",
    "def find_best_partition(dataset, y_column):\n",
    "    best_gini = None\n",
    "    best_partition_test = None\n",
    "    for column in dataset:\n",
    "        if column != y_column:\n",
    "            if is_discrete(dataset[column]):\n",
    "                for value in dataset[column].unique():\n",
    "                    test = PartitionTest(dataset[column], value)\n",
    "                    match_data, non_match_data = partition(dataset, test)\n",
    "                    gini = weighted_gini_impurity(match_data, non_match_data, y_column)\n",
    "                    if best_gini is None or gini < best_gini:\n",
    "                        best_gini = gini\n",
    "                        best_partition_test = test\n",
    "            else:\n",
    "                sorted_data = dataset.sort_values(by=column)\n",
    "                arr = np.array(sorted_data[column])\n",
    "                values = []\n",
    "                for i in range(len(arr) - 1):\n",
    "                    values.append((arr[i] + arr[i + 1]) / 2)\n",
    "                for value in values:\n",
    "                    test = PartitionTest(dataset[column], value)\n",
    "                    match_data, non_match_data = partition(dataset, test)\n",
    "                    gini = weighted_gini_impurity(match_data, non_match_data, y_column)\n",
    "                    if best_gini is None or gini < best_gini:\n",
    "                        best_gini = gini\n",
    "                        best_partition_test = test\n",
    "\n",
    "    return best_gini, best_partition_test"
   ]
  },
  {
   "cell_type": "markdown",
   "id": "676acee4",
   "metadata": {},
   "source": [
    "This approach can handle both discrete (numeric or non-numeric) and continuous input variables, testing whether values are equal to the test variable value when it is discrete, or less than the value when it is continuous. The next two functions below recursively grow and print the tree."
   ]
  },
  {
   "cell_type": "code",
   "execution_count": 4,
   "id": "29e4123f",
   "metadata": {},
   "outputs": [],
   "source": [
    "def grow_tree(dataset, y_column, current_depth=0, max_depth=100):\n",
    "    best_gini, best_test = find_best_partition(dataset, y_column)\n",
    "    if best_gini is None or best_gini >= current_gini_impurity(dataset, y_column) or current_depth >= max_depth:\n",
    "        return LeafNode(dataset, y_column)\n",
    "    match_data, non_match_data = partition(dataset, best_test)\n",
    "    match_data, non_match_data = match_data.drop(columns=[best_test.column.name]), non_match_data.drop(columns=[best_test.column.name])\n",
    "    branch1 = grow_tree(match_data, y_column, current_depth + 1, max_depth=max_depth)\n",
    "    branch2 = grow_tree(non_match_data, y_column, current_depth + 1, max_depth=max_depth)\n",
    "    return BranchNode(best_test, branch1, branch2)\n",
    "\n",
    "def print_tree(node, spacing=\"\"):\n",
    "    if isinstance(node, LeafNode):\n",
    "        print(spacing + f\"Output = {node.output} with confidence {node.confidence}\")\n",
    "        return\n",
    "    print (spacing + str(node.partition_test))\n",
    "    print (spacing + '  --> True:')\n",
    "    print_tree(node.match_branch, spacing + \"      \")\n",
    "    print (spacing + '  --> False:')\n",
    "    print_tree(node.non_match_branch, spacing + \"      \")"
   ]
  },
  {
   "cell_type": "markdown",
   "id": "8ceb8f40",
   "metadata": {},
   "source": [
    "### 2. Dataset trees"
   ]
  },
  {
   "cell_type": "markdown",
   "id": "452e4fb6",
   "metadata": {},
   "source": [
    "The trees for the weather data and my chosen dataset (heart attack prediction) are printed below. For the heart attack prediction, I have limited the maximum depth of the tree so as to make it more readable, but this can be changed with the \"max_depth\" parameter as desired. For each leaf node, the algorithm also returns it's \"confidence\" which is simply the proportion of the prediction made by the algorithm in the leaf node data. For example, if the leaf node predicts \"Yes\" and the leaf node contains 4 \"Yes\" values and 1 \"No\" value, the confidence will be 4/5 = 0.8."
   ]
  },
  {
   "cell_type": "code",
   "execution_count": 5,
   "id": "e7f7332b",
   "metadata": {},
   "outputs": [
    {
     "name": "stdout",
     "output_type": "stream",
     "text": [
      "Is Outlook == Overcast ?\n",
      "  --> True:\n",
      "      Output = Yes with confidence 1.0\n",
      "  --> False:\n",
      "      Is Humidity == High ?\n",
      "        --> True:\n",
      "            Is Temperature == Hot ?\n",
      "              --> True:\n",
      "                  Output = No with confidence 1.0\n",
      "              --> False:\n",
      "                  Is Wind == Weak ?\n",
      "                    --> True:\n",
      "                        Output = Yes with confidence 0.5\n",
      "                    --> False:\n",
      "                        Output = No with confidence 1.0\n",
      "        --> False:\n",
      "            Is Wind == Weak ?\n",
      "              --> True:\n",
      "                  Output = Yes with confidence 1.0\n",
      "              --> False:\n",
      "                  Is Temperature == Cool ?\n",
      "                    --> True:\n",
      "                        Output = No with confidence 1.0\n",
      "                    --> False:\n",
      "                        Output = Yes with confidence 1.0\n"
     ]
    }
   ],
   "source": [
    "weather_data = pd.read_csv(\"C:/Users/samjp/OneDrive/Desktop/Data Science Portfolio/Decision Tree Classification/Data/weather-data.csv\")\n",
    "weather_data = weather_data.drop(\"Day\", axis=1) # removing \"Day\" column as it is simply an index and not relevant to decisions\n",
    "tree = grow_tree(weather_data, \"Decision\")\n",
    "print_tree(tree)"
   ]
  },
  {
   "cell_type": "code",
   "execution_count": 6,
   "id": "3e2f34f6",
   "metadata": {},
   "outputs": [
    {
     "name": "stdout",
     "output_type": "stream",
     "text": [
      "Is thall == 2 ?\n",
      "  --> True:\n",
      "      Is caa == 0 ?\n",
      "        --> True:\n",
      "            Is trtbps < 158.0 ?\n",
      "              --> True:\n",
      "                  Output = 1 with confidence 0.9174311926605505\n",
      "              --> False:\n",
      "                  Output = 0 with confidence 0.6\n",
      "        --> False:\n",
      "            Is cp == 0 ?\n",
      "              --> True:\n",
      "                  Output = 0 with confidence 0.85\n",
      "              --> False:\n",
      "                  Output = 1 with confidence 0.78125\n",
      "  --> False:\n",
      "      Is cp == 0 ?\n",
      "        --> True:\n",
      "            Is oldpeak < 0.55 ?\n",
      "              --> True:\n",
      "                  Output = 0 with confidence 0.6363636363636364\n",
      "              --> False:\n",
      "                  Output = 0 with confidence 0.9710144927536232\n",
      "        --> False:\n",
      "            Is caa < 0.5 ?\n",
      "              --> True:\n",
      "                  Output = 1 with confidence 0.7142857142857143\n",
      "              --> False:\n",
      "                  Output = 0 with confidence 0.7222222222222222\n"
     ]
    }
   ],
   "source": [
    "heart_disease_data = pd.read_csv(\"C:/Users/samjp/OneDrive/Desktop/Data Science Portfolio/Decision Tree Classification/Data/heart-prediction.csv\")\n",
    "tree = grow_tree(heart_disease_data, \"output\", max_depth=3)\n",
    "print_tree(tree)"
   ]
  },
  {
   "cell_type": "markdown",
   "id": "89b4fa3e",
   "metadata": {},
   "source": [
    "### 3. Performance evaluation on heart disease dataset"
   ]
  },
  {
   "cell_type": "markdown",
   "id": "a3d60bca",
   "metadata": {},
   "source": [
    "In order to assess the performance of my algorithm, the functions below split the data into test and train datasets, train the model and compare it's predictions to the true output in the data, outputting overall accuracy and a confusion matrix."
   ]
  },
  {
   "cell_type": "code",
   "execution_count": 7,
   "id": "6c475a4d",
   "metadata": {},
   "outputs": [],
   "source": [
    "def test_train_split(dataset, fraction=0.1):\n",
    "    test = dataset.sample(frac=fraction, axis=0, random_state=1)\n",
    "    train = dataset.drop(index=test.index)\n",
    "\n",
    "    return test, train\n",
    "\n",
    "def predict_row_output(row, node):\n",
    "    if isinstance(node, LeafNode):\n",
    "        return node.output\n",
    "    if is_discrete(node.partition_test.column):\n",
    "        if row[1][node.partition_test.column.name] == node.partition_test.value:\n",
    "            return predict_row_output(row, node.match_branch)\n",
    "        else:\n",
    "            return predict_row_output(row, node.non_match_branch)\n",
    "    else:\n",
    "        if row[1][node.partition_test.column.name] < node.partition_test.value:\n",
    "            return predict_row_output(row, node.match_branch)\n",
    "        else:\n",
    "            return predict_row_output(row, node.non_match_branch)\n",
    "\n",
    "def predict_test_data_output(test_data, node):\n",
    "    predictions = []\n",
    "    for row in test_data.iterrows():\n",
    "        predictions.append(predict_row_output(row, node))\n",
    "    return predictions\n",
    "\n",
    "def decision_tree_accuracy(test_data, predictions, y_column):\n",
    "    comparison = test_data.assign(prediction=predictions)\n",
    "    comparison[\"match\"] = np.where(comparison[y_column] == comparison[\"prediction\"], True, False)\n",
    "    return comparison[\"match\"].value_counts()[True] / len(comparison)"
   ]
  },
  {
   "cell_type": "code",
   "execution_count": 8,
   "id": "0d5fc768",
   "metadata": {},
   "outputs": [
    {
     "name": "stdout",
     "output_type": "stream",
     "text": [
      "Accuracy = 0.8666666666666667\n"
     ]
    }
   ],
   "source": [
    "test_data, train_data = test_train_split(heart_disease_data)\n",
    "tree = grow_tree(train_data, \"output\", max_depth=3)\n",
    "predictions = predict_test_data_output(test_data, tree)\n",
    "accuracy = decision_tree_accuracy(test_data, predictions, \"output\")\n",
    "print(f\"Accuracy = {accuracy}\")"
   ]
  },
  {
   "cell_type": "code",
   "execution_count": 9,
   "id": "ebec4e32",
   "metadata": {},
   "outputs": [
    {
     "data": {
      "text/plain": [
       "<AxesSubplot:xlabel='prediction', ylabel='output'>"
      ]
     },
     "execution_count": 9,
     "metadata": {},
     "output_type": "execute_result"
    },
    {
     "data": {
      "image/png": "[encoded data removed]",
      "text/plain": [
       "<Figure size 432x288 with 1 Axes>"
      ]
     },
     "metadata": {
      "needs_background": "light"
     },
     "output_type": "display_data"
    }
   ],
   "source": [
    "comparison = test_data.assign(prediction=predictions)\n",
    "confusion_matrix = pd.crosstab(comparison[\"output\"], comparison[\"prediction\"])\n",
    "sn.heatmap(confusion_matrix/len(test_data), annot=True, fmt=\".1%\", cbar=False, cmap=\"RdYlGn\")"
   ]
  },
  {
   "cell_type": "markdown",
   "id": "af1aac52",
   "metadata": {},
   "source": [
    "Finally, the code below runs k-fold cross validation to assess the performance of the algorithm over 10 different test/train splits, to get a better idea of how accurate the algorithm is more generally. The output is the accuracy on each split, along with the average accuracy over all 10."
   ]
  },
  {
   "cell_type": "code",
   "execution_count": 10,
   "id": "35c8eeac",
   "metadata": {},
   "outputs": [],
   "source": [
    "def cross_validation(dataset, y_column, max_depth=100, k=10):\n",
    "    accuracy_list = []\n",
    "    sample_list = [i for i in range(len(dataset))]\n",
    "    while sample_list != []:\n",
    "        sample = random.sample(sample_list, min((-(-len(dataset) // k)), len(sample_list)))\n",
    "        for num in sample:\n",
    "            sample_list.remove(num)\n",
    "        test_data = dataset.iloc[sample]\n",
    "        train_data = dataset.drop(index=test_data.index)\n",
    "        tree = grow_tree(train_data, y_column, max_depth=max_depth)\n",
    "        predictions = predict_test_data_output(test_data, tree)\n",
    "        accuracy_list.append(decision_tree_accuracy(test_data, predictions, y_column))\n",
    "    average_accuracy = np.mean(accuracy_list)\n",
    "    return accuracy_list, average_accuracy"
   ]
  },
  {
   "cell_type": "code",
   "execution_count": 11,
   "id": "5cf89317",
   "metadata": {},
   "outputs": [
    {
     "name": "stdout",
     "output_type": "stream",
     "text": [
      "Accuracy on each split = [0.7419354838709677, 0.8064516129032258, 0.967741935483871, 0.7096774193548387, 0.8709677419354839, 0.9032258064516129, 0.7096774193548387, 0.6129032258064516, 0.8064516129032258, 0.875]\n",
      "Average accuracy = 0.8004032258064516\n"
     ]
    }
   ],
   "source": [
    "random.seed(1)\n",
    "acc_list, ave_acc = cross_validation(heart_disease_data, \"output\", max_depth=3)\n",
    "print(f\"Accuracy on each split = {acc_list}\")\n",
    "print(f\"Average accuracy = {ave_acc}\")"
   ]
  }
 ],
 "metadata": {
  "kernelspec": {
   "display_name": "Python 3",
   "language": "python",
   "name": "python3"
  },
  "language_info": {
   "codemirror_mode": {
    "name": "ipython",
    "version": 3
   },
   "file_extension": ".py",
   "mimetype": "text/x-python",
   "name": "python",
   "nbconvert_exporter": "python",
   "pygments_lexer": "ipython3",
   "version": "3.8.8"
  }
 },
 "nbformat": 4,
 "nbformat_minor": 5
}
